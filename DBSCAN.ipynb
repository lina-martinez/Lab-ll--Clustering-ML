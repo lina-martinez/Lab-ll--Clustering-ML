{
 "cells": [
  {
   "attachments": {},
   "cell_type": "markdown",
   "metadata": {},
   "source": [
    "**2. Research about the DBSCAN method, and answer the following questions:**"
   ]
  },
  {
   "attachments": {},
   "cell_type": "markdown",
   "metadata": {},
   "source": [
    "*a. In which cases might it be more useful to apply?*"
   ]
  },
  {
   "attachments": {},
   "cell_type": "markdown",
   "metadata": {},
   "source": [
    "\n",
    "The DBSCAN (Density Based Spatial Clustering with Noise) method is an unsupervised learning method. Its function is to separate the data points into several sets or specific groups.\n",
    "The goal is for data points in the same groups to have similar properties and data points in different groups to have different properties. This method groups 'densely packed' data points into a single group.\n",
    "\n",
    "The good thing about DBSCAN is that you don't have to specify the number of clusters to use it and it can handle large data sets efficiently, You only need to calculate the distance between the values and define how much distance is considered \"close\".\n",
    "It is useful in cases where the groups have different densities, sizes and shapes and when there are noise points in the data (it is resistant to outliers)"
   ]
  },
  {
   "attachments": {},
   "cell_type": "markdown",
   "metadata": {},
   "source": [
    "*b. What are the mathematical fundamentals of it?*"
   ]
  },
  {
   "attachments": {},
   "cell_type": "markdown",
   "metadata": {},
   "source": [
    "DBSCAN method is based on the grouping of points that are close to each other based on a density criterion.\n",
    "\n",
    "The mathematical calculation is based on:\n",
    "* Define a neighborhood around each point and count the number of points within that neighborhood.\n",
    "* Points that have a minimum number of neighbors are considered center points, while points that are not in a dense region but are close to center points are considered edge points.\n",
    "* Points that are not in a dense region and are far from any center points are considered noise points.\n",
    "* The algorithm iterates extending groups around center points, until no more points can be added to the group."
   ]
  },
  {
   "attachments": {},
   "cell_type": "markdown",
   "metadata": {},
   "source": [
    "*c. Is there any relation between DBSCAN and Spectral Clustering? If so, what is it?*"
   ]
  },
  {
   "attachments": {},
   "cell_type": "markdown",
   "metadata": {},
   "source": [
    "DBSCAN and spectral clustering can be used to obtain a more accurate clustering result, first DBSCAN is applied to the data to identify center points and edge points, then a graph is constructed from the data center points using a similarity measure, then spectral clustering of the graph is used to obtain the principal components that describe the structure of the graph.\n",
    "Although both can be combined, the methods also have different approaches, DBSCAN is based on density, while Spectral Clustering is based on graphs to group the data."
   ]
  }
 ],
 "metadata": {
  "language_info": {
   "name": "python"
  },
  "orig_nbformat": 4
 },
 "nbformat": 4,
 "nbformat_minor": 2
}
