{
 "cells": [
  {
   "attachments": {},
   "cell_type": "markdown",
   "metadata": {},
   "source": [
    "**3. What is the elbow method in clustering? And which flaws does it pose to assess quality?**"
   ]
  },
  {
   "attachments": {},
   "cell_type": "markdown",
   "metadata": {},
   "source": [
    "The elbow method is a technique used in clustering to determine the optimal number of clusters to use for the dataset. \n",
    "The method involves plotting the within-cluster sum of squares against the number of clusters, and identifying the \"elbow\" point where the rate of decrease begins to slow down.\n",
    "\n",
    "The idea behind the elbow method is that as the number of clusters increases, will generally decrease because the clusters become smaller.\n",
    "However, there comes a point where adding more clusters will only result in a decrease and the point where the rate of decrease slows down can be considered a good estimate of the optimal number of clusters.\n",
    "One of the flaws of the elbow method is that it can be subjective and difficult to identify the exact elbow point, because: \n",
    "* Different analysts may interpret the plot differently, leading to different estimates of the optimal number of clusters. \n",
    "* The elbow method does not take into account the shape, size, and density of the clusters, and given this it could suggest a suboptimal number of groups and therefore not be a reliable guide to the choice of an optimal number of groups in that data set.\n",
    "\n",
    "Therefore, the elbow method should be used in conjunction with other techniques, such as silhouette analysis to assess the quality of clustering."
   ]
  }
 ],
 "metadata": {
  "language_info": {
   "name": "python"
  },
  "orig_nbformat": 4
 },
 "nbformat": 4,
 "nbformat_minor": 2
}
